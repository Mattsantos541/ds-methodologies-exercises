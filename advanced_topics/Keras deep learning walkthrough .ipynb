{
 "cells": [
  {
   "cell_type": "code",
   "execution_count": 7,
   "metadata": {},
   "outputs": [],
   "source": [
    "import keras\n",
    "# Libraries and dependencies\n",
    "from keras import models\n",
    "from keras import layers\n",
    "from keras.utils import to_categorical\n",
    "from keras.datasets import mnist"
   ]
  },
  {
   "cell_type": "code",
   "execution_count": 3,
   "metadata": {},
   "outputs": [
    {
     "name": "stdout",
     "output_type": "stream",
     "text": [
      "Downloading data from https://s3.amazonaws.com/img-datasets/mnist.npz\n",
      "11493376/11490434 [==============================] - 3s 0us/step\n"
     ]
    }
   ],
   "source": [
    "\n",
    "# Acquire the data set\n",
    "(train_images, train_labels), (test_images, test_labels) = mnist.load_data()"
   ]
  },
  {
   "cell_type": "code",
   "execution_count": 4,
   "metadata": {},
   "outputs": [
    {
     "name": "stdout",
     "output_type": "stream",
     "text": [
      "(60000, 28, 28)\n"
     ]
    }
   ],
   "source": [
    "# explore the shape of the data\n",
    "print(train_images.shape)"
   ]
  },
  {
   "cell_type": "code",
   "execution_count": 8,
   "metadata": {},
   "outputs": [
    {
     "name": "stdout",
     "output_type": "stream",
     "text": [
      "WARNING:tensorflow:From /usr/local/anaconda3/lib/python3.7/site-packages/keras/backend/tensorflow_backend.py:74: The name tf.get_default_graph is deprecated. Please use tf.compat.v1.get_default_graph instead.\n",
      "\n",
      "WARNING:tensorflow:From /usr/local/anaconda3/lib/python3.7/site-packages/keras/backend/tensorflow_backend.py:517: The name tf.placeholder is deprecated. Please use tf.compat.v1.placeholder instead.\n",
      "\n",
      "WARNING:tensorflow:From /usr/local/anaconda3/lib/python3.7/site-packages/keras/backend/tensorflow_backend.py:4138: The name tf.random_uniform is deprecated. Please use tf.random.uniform instead.\n",
      "\n"
     ]
    }
   ],
   "source": [
    "network = models.Sequential()\n",
    "network.add(layers.Dense(512, activation='relu', input_shape=(28 * 28,)))\n",
    "network.add(layers.Dense(10, activation='softmax'))"
   ]
  },
  {
   "cell_type": "markdown",
   "metadata": {},
   "source": [
    "\n",
    "##### A loss function\n",
    "How the network will be able to measure its performance on the training data, and thus how it will be able to steer itself in the right direction.\n",
    "##### An optimizer\n",
    "The mechanism through which the network will update itself based on the data it sees and its loss function.\n",
    "##### Metrics to monitor during training and testing\n",
    "Here, we’ll only care about accuracy (the fraction of the images that were correctly classified)"
   ]
  },
  {
   "cell_type": "code",
   "execution_count": 9,
   "metadata": {},
   "outputs": [
    {
     "name": "stdout",
     "output_type": "stream",
     "text": [
      "WARNING:tensorflow:From /usr/local/anaconda3/lib/python3.7/site-packages/keras/optimizers.py:790: The name tf.train.Optimizer is deprecated. Please use tf.compat.v1.train.Optimizer instead.\n",
      "\n",
      "WARNING:tensorflow:From /usr/local/anaconda3/lib/python3.7/site-packages/keras/backend/tensorflow_backend.py:3295: The name tf.log is deprecated. Please use tf.math.log instead.\n",
      "\n"
     ]
    }
   ],
   "source": [
    "# create our network, specifying the optimizer, loss function, and metrics we want\n",
    "network.compile(optimizer='rmsprop',\n",
    "                loss='categorical_crossentropy',\n",
    "                metrics=['accuracy'])"
   ]
  },
  {
   "cell_type": "code",
   "execution_count": 10,
   "metadata": {},
   "outputs": [],
   "source": [
    "# reshape\n",
    "train_images = train_images.reshape((60000, 28 * 28))\n",
    "train_images = train_images.astype('float32') / 255\n",
    "test_images = test_images.reshape((10000, 28 * 28))\n",
    "test_images = test_images.astype('float32') / 255"
   ]
  },
  {
   "cell_type": "code",
   "execution_count": 11,
   "metadata": {},
   "outputs": [],
   "source": [
    "# set the labels as categorical values\n",
    "train_labels = to_categorical(train_labels)\n",
    "test_labels = to_categorical(test_labels)"
   ]
  },
  {
   "cell_type": "code",
   "execution_count": 12,
   "metadata": {},
   "outputs": [
    {
     "name": "stdout",
     "output_type": "stream",
     "text": [
      "WARNING:tensorflow:From /usr/local/anaconda3/lib/python3.7/site-packages/tensorflow/python/ops/math_grad.py:1250: add_dispatch_support.<locals>.wrapper (from tensorflow.python.ops.array_ops) is deprecated and will be removed in a future version.\n",
      "Instructions for updating:\n",
      "Use tf.where in 2.0, which has the same broadcast rule as np.where\n",
      "WARNING:tensorflow:From /usr/local/anaconda3/lib/python3.7/site-packages/keras/backend/tensorflow_backend.py:986: The name tf.assign_add is deprecated. Please use tf.compat.v1.assign_add instead.\n",
      "\n",
      "Epoch 1/17\n",
      "60000/60000 [==============================] - 8s 137us/step - loss: 0.2583 - acc: 0.9257\n",
      "Epoch 2/17\n",
      "60000/60000 [==============================] - 7s 117us/step - loss: 0.1037 - acc: 0.9693\n",
      "Epoch 3/17\n",
      "60000/60000 [==============================] - 7s 117us/step - loss: 0.0682 - acc: 0.9797\n",
      "Epoch 4/17\n",
      "60000/60000 [==============================] - 7s 119us/step - loss: 0.0502 - acc: 0.9850\n",
      "Epoch 5/17\n",
      "60000/60000 [==============================] - 7s 123us/step - loss: 0.0366 - acc: 0.9893\n",
      "Epoch 6/17\n",
      "60000/60000 [==============================] - 8s 128us/step - loss: 0.0280 - acc: 0.9917\n",
      "Epoch 7/17\n",
      "60000/60000 [==============================] - 8s 133us/step - loss: 0.0220 - acc: 0.9935\n",
      "Epoch 8/17\n",
      "60000/60000 [==============================] - 8s 138us/step - loss: 0.0171 - acc: 0.9952\n",
      "Epoch 9/17\n",
      "60000/60000 [==============================] - 9s 144us/step - loss: 0.0134 - acc: 0.9960\n",
      "Epoch 10/17\n",
      "60000/60000 [==============================] - 9s 149us/step - loss: 0.0103 - acc: 0.9968\n",
      "Epoch 11/17\n",
      "60000/60000 [==============================] - 9s 150us/step - loss: 0.0079 - acc: 0.9980\n",
      "Epoch 12/17\n",
      "60000/60000 [==============================] - 9s 150us/step - loss: 0.0066 - acc: 0.9981\n",
      "Epoch 13/17\n",
      "60000/60000 [==============================] - 10s 161us/step - loss: 0.0050 - acc: 0.9988\n",
      "Epoch 14/17\n",
      "60000/60000 [==============================] - 10s 173us/step - loss: 0.0039 - acc: 0.9991\n",
      "Epoch 15/17\n",
      "60000/60000 [==============================] - 10s 163us/step - loss: 0.0031 - acc: 0.9993\n",
      "Epoch 16/17\n",
      "60000/60000 [==============================] - 10s 172us/step - loss: 0.0029 - acc: 0.9993\n",
      "Epoch 17/17\n",
      "60000/60000 [==============================] - 10s 163us/step - loss: 0.0020 - acc: 0.9996\n"
     ]
    },
    {
     "data": {
      "text/plain": [
       "<keras.callbacks.History at 0x64b165438>"
      ]
     },
     "execution_count": 12,
     "metadata": {},
     "output_type": "execute_result"
    }
   ],
   "source": [
    "# fit the model to the training data\n",
    "network.fit(train_images, train_labels, epochs=17, batch_size=128)"
   ]
  },
  {
   "cell_type": "code",
   "execution_count": 13,
   "metadata": {},
   "outputs": [
    {
     "name": "stdout",
     "output_type": "stream",
     "text": [
      "10000/10000 [==============================] - 1s 63us/step\n",
      "test_acc: 0.9829\n"
     ]
    }
   ],
   "source": [
    "test_loss, test_acc = network.evaluate(test_images, test_labels)\n",
    "\n",
    "print('test_acc:', test_acc)"
   ]
  },
  {
   "cell_type": "code",
   "execution_count": null,
   "metadata": {},
   "outputs": [],
   "source": []
  }
 ],
 "metadata": {
  "kernelspec": {
   "display_name": "Python 3",
   "language": "python",
   "name": "python3"
  },
  "language_info": {
   "codemirror_mode": {
    "name": "ipython",
    "version": 3
   },
   "file_extension": ".py",
   "mimetype": "text/x-python",
   "name": "python",
   "nbconvert_exporter": "python",
   "pygments_lexer": "ipython3",
   "version": "3.7.3"
  }
 },
 "nbformat": 4,
 "nbformat_minor": 2
}

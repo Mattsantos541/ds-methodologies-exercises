{
 "cells": [
  {
   "cell_type": "code",
   "execution_count": 53,
   "metadata": {},
   "outputs": [],
   "source": [
    "from __future__ import division\n",
    "import itertools\n",
    "import warnings\n",
    "warnings.filterwarnings(\"ignore\")\n",
    "import matplotlib.pyplot as plt\n",
    "import matplotlib.dates as mdates\n",
    "import numpy as np\n",
    "import pandas as pd\n",
    "import math\n",
    "from sklearn import metrics\n",
    "from random import randint\n",
    "from matplotlib import style\n",
    "import seaborn as sns\n",
    "from sklearn.cluster import DBSCAN\n",
    "from sklearn.preprocessing import MinMaxScaler, StandardScaler  \n",
    "import seaborn as sns\n",
    "\n",
    "%matplotlib inline"
   ]
  },
  {
   "cell_type": "code",
   "execution_count": 2,
   "metadata": {},
   "outputs": [],
   "source": [
    "# Import .csv file and convert it to a DataFrame object\n",
    "df = pd.read_csv('anonymized-curriculum-access.csv')\n"
   ]
  },
  {
   "cell_type": "code",
   "execution_count": 3,
   "metadata": {},
   "outputs": [
    {
     "data": {
      "text/html": [
       "<div>\n",
       "<style scoped>\n",
       "    .dataframe tbody tr th:only-of-type {\n",
       "        vertical-align: middle;\n",
       "    }\n",
       "\n",
       "    .dataframe tbody tr th {\n",
       "        vertical-align: top;\n",
       "    }\n",
       "\n",
       "    .dataframe thead th {\n",
       "        text-align: right;\n",
       "    }\n",
       "</style>\n",
       "<table border=\"1\" class=\"dataframe\">\n",
       "  <thead>\n",
       "    <tr style=\"text-align: right;\">\n",
       "      <th></th>\n",
       "      <th>0</th>\n",
       "      <th>1</th>\n",
       "      <th>2</th>\n",
       "      <th>3</th>\n",
       "      <th>4</th>\n",
       "      <th>5</th>\n",
       "    </tr>\n",
       "  </thead>\n",
       "  <tbody>\n",
       "    <tr>\n",
       "      <th>0</th>\n",
       "      <td>2018-01-26</td>\n",
       "      <td>09:55:03</td>\n",
       "      <td>/</td>\n",
       "      <td>1</td>\n",
       "      <td>8.0</td>\n",
       "      <td>97.105.19.61</td>\n",
       "    </tr>\n",
       "    <tr>\n",
       "      <th>1</th>\n",
       "      <td>2018-01-26</td>\n",
       "      <td>09:56:02</td>\n",
       "      <td>java-ii</td>\n",
       "      <td>1</td>\n",
       "      <td>8.0</td>\n",
       "      <td>97.105.19.61</td>\n",
       "    </tr>\n",
       "    <tr>\n",
       "      <th>2</th>\n",
       "      <td>2018-01-26</td>\n",
       "      <td>09:56:05</td>\n",
       "      <td>java-ii/object-oriented-programming</td>\n",
       "      <td>1</td>\n",
       "      <td>8.0</td>\n",
       "      <td>97.105.19.61</td>\n",
       "    </tr>\n",
       "    <tr>\n",
       "      <th>3</th>\n",
       "      <td>2018-01-26</td>\n",
       "      <td>09:56:06</td>\n",
       "      <td>slides/object_oriented_programming</td>\n",
       "      <td>1</td>\n",
       "      <td>8.0</td>\n",
       "      <td>97.105.19.61</td>\n",
       "    </tr>\n",
       "    <tr>\n",
       "      <th>4</th>\n",
       "      <td>2018-01-26</td>\n",
       "      <td>09:56:24</td>\n",
       "      <td>javascript-i/conditionals</td>\n",
       "      <td>2</td>\n",
       "      <td>22.0</td>\n",
       "      <td>97.105.19.61</td>\n",
       "    </tr>\n",
       "  </tbody>\n",
       "</table>\n",
       "</div>"
      ],
      "text/plain": [
       "            0         1                                    2  3     4  \\\n",
       "0  2018-01-26  09:55:03                                    /  1   8.0   \n",
       "1  2018-01-26  09:56:02                              java-ii  1   8.0   \n",
       "2  2018-01-26  09:56:05  java-ii/object-oriented-programming  1   8.0   \n",
       "3  2018-01-26  09:56:06   slides/object_oriented_programming  1   8.0   \n",
       "4  2018-01-26  09:56:24            javascript-i/conditionals  2  22.0   \n",
       "\n",
       "              5  \n",
       "0  97.105.19.61  \n",
       "1  97.105.19.61  \n",
       "2  97.105.19.61  \n",
       "3  97.105.19.61  \n",
       "4  97.105.19.61  "
      ]
     },
     "execution_count": 3,
     "metadata": {},
     "output_type": "execute_result"
    }
   ],
   "source": [
    "#colnames=[{0:\"date\", 1:\"time\", 2:\"page\", 3:\"num1\", 4:\"num2\", 5:\"ip\"}]\n",
    "df_orig = pd.read_csv('anonymized-curriculum-access.csv',\n",
    "                 header=None,\n",
    "                 sep= \" \"\n",
    ")\n",
    "\n",
    "\n",
    "\n",
    "df = df_orig\n",
    "df.head()"
   ]
  },
  {
   "cell_type": "code",
   "execution_count": 4,
   "metadata": {},
   "outputs": [
    {
     "data": {
      "text/html": [
       "<div>\n",
       "<style scoped>\n",
       "    .dataframe tbody tr th:only-of-type {\n",
       "        vertical-align: middle;\n",
       "    }\n",
       "\n",
       "    .dataframe tbody tr th {\n",
       "        vertical-align: top;\n",
       "    }\n",
       "\n",
       "    .dataframe thead th {\n",
       "        text-align: right;\n",
       "    }\n",
       "</style>\n",
       "<table border=\"1\" class=\"dataframe\">\n",
       "  <thead>\n",
       "    <tr style=\"text-align: right;\">\n",
       "      <th></th>\n",
       "      <th>id</th>\n",
       "      <th>group</th>\n",
       "    </tr>\n",
       "  </thead>\n",
       "  <tbody>\n",
       "    <tr>\n",
       "      <th>count</th>\n",
       "      <td>399195.000000</td>\n",
       "      <td>372441.000000</td>\n",
       "    </tr>\n",
       "    <tr>\n",
       "      <th>mean</th>\n",
       "      <td>268.794667</td>\n",
       "      <td>26.912649</td>\n",
       "    </tr>\n",
       "    <tr>\n",
       "      <th>std</th>\n",
       "      <td>147.587312</td>\n",
       "      <td>7.846146</td>\n",
       "    </tr>\n",
       "    <tr>\n",
       "      <th>min</th>\n",
       "      <td>1.000000</td>\n",
       "      <td>1.000000</td>\n",
       "    </tr>\n",
       "    <tr>\n",
       "      <th>25%</th>\n",
       "      <td>157.000000</td>\n",
       "      <td>23.000000</td>\n",
       "    </tr>\n",
       "    <tr>\n",
       "      <th>50%</th>\n",
       "      <td>288.000000</td>\n",
       "      <td>27.000000</td>\n",
       "    </tr>\n",
       "    <tr>\n",
       "      <th>75%</th>\n",
       "      <td>392.000000</td>\n",
       "      <td>31.000000</td>\n",
       "    </tr>\n",
       "    <tr>\n",
       "      <th>max</th>\n",
       "      <td>543.000000</td>\n",
       "      <td>52.000000</td>\n",
       "    </tr>\n",
       "  </tbody>\n",
       "</table>\n",
       "</div>"
      ],
      "text/plain": [
       "                  id          group\n",
       "count  399195.000000  372441.000000\n",
       "mean      268.794667      26.912649\n",
       "std       147.587312       7.846146\n",
       "min         1.000000       1.000000\n",
       "25%       157.000000      23.000000\n",
       "50%       288.000000      27.000000\n",
       "75%       392.000000      31.000000\n",
       "max       543.000000      52.000000"
      ]
     },
     "execution_count": 4,
     "metadata": {},
     "output_type": "execute_result"
    }
   ],
   "source": [
    "df = df.rename(columns={0:\"date\", 1:\"time\", 2:\"page\", 3:\"id\", 4:\"group\", 5:\"ip\"})\n",
    "\n",
    "df.describe()"
   ]
  },
  {
   "cell_type": "code",
   "execution_count": 5,
   "metadata": {},
   "outputs": [
    {
     "data": {
      "text/html": [
       "<div>\n",
       "<style scoped>\n",
       "    .dataframe tbody tr th:only-of-type {\n",
       "        vertical-align: middle;\n",
       "    }\n",
       "\n",
       "    .dataframe tbody tr th {\n",
       "        vertical-align: top;\n",
       "    }\n",
       "\n",
       "    .dataframe thead th {\n",
       "        text-align: right;\n",
       "    }\n",
       "</style>\n",
       "<table border=\"1\" class=\"dataframe\">\n",
       "  <thead>\n",
       "    <tr style=\"text-align: right;\">\n",
       "      <th></th>\n",
       "      <th>page</th>\n",
       "      <th>id</th>\n",
       "      <th>group</th>\n",
       "      <th>ip</th>\n",
       "    </tr>\n",
       "  </thead>\n",
       "  <tbody>\n",
       "    <tr>\n",
       "      <th>0</th>\n",
       "      <td>/</td>\n",
       "      <td>1</td>\n",
       "      <td>8.0</td>\n",
       "      <td>97.105.19.61</td>\n",
       "    </tr>\n",
       "    <tr>\n",
       "      <th>1</th>\n",
       "      <td>java-ii</td>\n",
       "      <td>1</td>\n",
       "      <td>8.0</td>\n",
       "      <td>97.105.19.61</td>\n",
       "    </tr>\n",
       "    <tr>\n",
       "      <th>2</th>\n",
       "      <td>java-ii/object-oriented-programming</td>\n",
       "      <td>1</td>\n",
       "      <td>8.0</td>\n",
       "      <td>97.105.19.61</td>\n",
       "    </tr>\n",
       "    <tr>\n",
       "      <th>3</th>\n",
       "      <td>slides/object_oriented_programming</td>\n",
       "      <td>1</td>\n",
       "      <td>8.0</td>\n",
       "      <td>97.105.19.61</td>\n",
       "    </tr>\n",
       "    <tr>\n",
       "      <th>4</th>\n",
       "      <td>javascript-i/conditionals</td>\n",
       "      <td>2</td>\n",
       "      <td>22.0</td>\n",
       "      <td>97.105.19.61</td>\n",
       "    </tr>\n",
       "  </tbody>\n",
       "</table>\n",
       "</div>"
      ],
      "text/plain": [
       "                                  page  id  group            ip\n",
       "0                                    /   1    8.0  97.105.19.61\n",
       "1                              java-ii   1    8.0  97.105.19.61\n",
       "2  java-ii/object-oriented-programming   1    8.0  97.105.19.61\n",
       "3   slides/object_oriented_programming   1    8.0  97.105.19.61\n",
       "4            javascript-i/conditionals   2   22.0  97.105.19.61"
      ]
     },
     "execution_count": 5,
     "metadata": {},
     "output_type": "execute_result"
    }
   ],
   "source": [
    "df= df.drop(columns=['date', 'time'])\n",
    "\n",
    "df.head()"
   ]
  },
  {
   "cell_type": "code",
   "execution_count": 6,
   "metadata": {},
   "outputs": [
    {
     "data": {
      "text/plain": [
       "page         0\n",
       "id           0\n",
       "group    26754\n",
       "ip           0\n",
       "dtype: int64"
      ]
     },
     "execution_count": 6,
     "metadata": {},
     "output_type": "execute_result"
    }
   ],
   "source": [
    "df.dropna(axis=1)\n",
    "#df= df.set_index(df['group'])\n",
    "df.isnull().sum()"
   ]
  },
  {
   "cell_type": "code",
   "execution_count": 7,
   "metadata": {},
   "outputs": [],
   "source": [
    "df= df[['group', 'id']]\n"
   ]
  },
  {
   "cell_type": "code",
   "execution_count": 8,
   "metadata": {},
   "outputs": [
    {
     "data": {
      "text/plain": [
       "group    26754\n",
       "id           0\n",
       "dtype: int64"
      ]
     },
     "execution_count": 8,
     "metadata": {},
     "output_type": "execute_result"
    }
   ],
   "source": [
    "\n",
    "df.isnull().sum()"
   ]
  },
  {
   "cell_type": "code",
   "execution_count": 9,
   "metadata": {},
   "outputs": [],
   "source": [
    "df = df[[\"group\", \"id\"]]"
   ]
  },
  {
   "cell_type": "code",
   "execution_count": 10,
   "metadata": {},
   "outputs": [],
   "source": [
    "\n",
    "df.dropna()\n",
    "df.dropna(inplace=True)\n",
    "df = df.astype(float)"
   ]
  },
  {
   "cell_type": "code",
   "execution_count": 11,
   "metadata": {},
   "outputs": [],
   "source": [
    "np_array = df.values.astype(\"float32\", copy = False)"
   ]
  },
  {
   "cell_type": "code",
   "execution_count": 12,
   "metadata": {},
   "outputs": [
    {
     "data": {
      "text/plain": [
       "array([[0.13725491, 0.        ],\n",
       "       [0.13725491, 0.        ],\n",
       "       [0.13725491, 0.        ],\n",
       "       [0.13725491, 0.        ],\n",
       "       [0.4117647 , 0.00184502],\n",
       "       [0.4117647 , 0.00184502],\n",
       "       [0.4117647 , 0.00369004],\n",
       "       [0.4117647 , 0.00369004],\n",
       "       [0.4117647 , 0.00184502],\n",
       "       [0.4117647 , 0.00553506]], dtype=float32)"
      ]
     },
     "execution_count": 12,
     "metadata": {},
     "output_type": "execute_result"
    }
   ],
   "source": [
    "scaler = MinMaxScaler().fit(np_array)\n",
    "np_array = scaler.transform(np_array)\n",
    "np_array[0:10]"
   ]
  },
  {
   "cell_type": "code",
   "execution_count": null,
   "metadata": {},
   "outputs": [],
   "source": []
  },
  {
   "cell_type": "code",
   "execution_count": 13,
   "metadata": {},
   "outputs": [
    {
     "data": {
      "text/html": [
       "<div>\n",
       "<style scoped>\n",
       "    .dataframe tbody tr th:only-of-type {\n",
       "        vertical-align: middle;\n",
       "    }\n",
       "\n",
       "    .dataframe tbody tr th {\n",
       "        vertical-align: top;\n",
       "    }\n",
       "\n",
       "    .dataframe thead th {\n",
       "        text-align: right;\n",
       "    }\n",
       "</style>\n",
       "<table border=\"1\" class=\"dataframe\">\n",
       "  <thead>\n",
       "    <tr style=\"text-align: right;\">\n",
       "      <th></th>\n",
       "      <th>Channel</th>\n",
       "      <th>Region</th>\n",
       "      <th>Fresh</th>\n",
       "      <th>Milk</th>\n",
       "      <th>Grocery</th>\n",
       "      <th>Frozen</th>\n",
       "      <th>Detergents_Paper</th>\n",
       "      <th>Delicassen</th>\n",
       "    </tr>\n",
       "  </thead>\n",
       "  <tbody>\n",
       "    <tr>\n",
       "      <th>0</th>\n",
       "      <td>2</td>\n",
       "      <td>3</td>\n",
       "      <td>12669</td>\n",
       "      <td>9656</td>\n",
       "      <td>7561</td>\n",
       "      <td>214</td>\n",
       "      <td>2674</td>\n",
       "      <td>1338</td>\n",
       "    </tr>\n",
       "    <tr>\n",
       "      <th>1</th>\n",
       "      <td>2</td>\n",
       "      <td>3</td>\n",
       "      <td>7057</td>\n",
       "      <td>9810</td>\n",
       "      <td>9568</td>\n",
       "      <td>1762</td>\n",
       "      <td>3293</td>\n",
       "      <td>1776</td>\n",
       "    </tr>\n",
       "    <tr>\n",
       "      <th>2</th>\n",
       "      <td>2</td>\n",
       "      <td>3</td>\n",
       "      <td>6353</td>\n",
       "      <td>8808</td>\n",
       "      <td>7684</td>\n",
       "      <td>2405</td>\n",
       "      <td>3516</td>\n",
       "      <td>7844</td>\n",
       "    </tr>\n",
       "    <tr>\n",
       "      <th>3</th>\n",
       "      <td>1</td>\n",
       "      <td>3</td>\n",
       "      <td>13265</td>\n",
       "      <td>1196</td>\n",
       "      <td>4221</td>\n",
       "      <td>6404</td>\n",
       "      <td>507</td>\n",
       "      <td>1788</td>\n",
       "    </tr>\n",
       "    <tr>\n",
       "      <th>4</th>\n",
       "      <td>2</td>\n",
       "      <td>3</td>\n",
       "      <td>22615</td>\n",
       "      <td>5410</td>\n",
       "      <td>7198</td>\n",
       "      <td>3915</td>\n",
       "      <td>1777</td>\n",
       "      <td>5185</td>\n",
       "    </tr>\n",
       "  </tbody>\n",
       "</table>\n",
       "</div>"
      ],
      "text/plain": [
       "   Channel  Region  Fresh  Milk  Grocery  Frozen  Detergents_Paper  Delicassen\n",
       "0        2       3  12669  9656     7561     214              2674        1338\n",
       "1        2       3   7057  9810     9568    1762              3293        1776\n",
       "2        2       3   6353  8808     7684    2405              3516        7844\n",
       "3        1       3  13265  1196     4221    6404               507        1788\n",
       "4        2       3  22615  5410     7198    3915              1777        5185"
      ]
     },
     "execution_count": 13,
     "metadata": {},
     "output_type": "execute_result"
    }
   ],
   "source": [
    "df= pd.read_csv('customers.csv')\n",
    "df.head()"
   ]
  },
  {
   "cell_type": "code",
   "execution_count": 14,
   "metadata": {},
   "outputs": [],
   "source": [
    "df.drop([\"Channel\", \"Region\"], axis = 1, inplace = True)\n",
    "df = df[[\"Grocery\", \"Frozen\",\"Detergents_Paper\"]]"
   ]
  },
  {
   "cell_type": "code",
   "execution_count": 15,
   "metadata": {},
   "outputs": [
    {
     "data": {
      "text/html": [
       "<div>\n",
       "<style scoped>\n",
       "    .dataframe tbody tr th:only-of-type {\n",
       "        vertical-align: middle;\n",
       "    }\n",
       "\n",
       "    .dataframe tbody tr th {\n",
       "        vertical-align: top;\n",
       "    }\n",
       "\n",
       "    .dataframe thead th {\n",
       "        text-align: right;\n",
       "    }\n",
       "</style>\n",
       "<table border=\"1\" class=\"dataframe\">\n",
       "  <thead>\n",
       "    <tr style=\"text-align: right;\">\n",
       "      <th></th>\n",
       "      <th>Grocery</th>\n",
       "      <th>Frozen</th>\n",
       "      <th>Detergents_Paper</th>\n",
       "    </tr>\n",
       "  </thead>\n",
       "  <tbody>\n",
       "    <tr>\n",
       "      <th>0</th>\n",
       "      <td>7561</td>\n",
       "      <td>214</td>\n",
       "      <td>2674</td>\n",
       "    </tr>\n",
       "    <tr>\n",
       "      <th>1</th>\n",
       "      <td>9568</td>\n",
       "      <td>1762</td>\n",
       "      <td>3293</td>\n",
       "    </tr>\n",
       "    <tr>\n",
       "      <th>2</th>\n",
       "      <td>7684</td>\n",
       "      <td>2405</td>\n",
       "      <td>3516</td>\n",
       "    </tr>\n",
       "    <tr>\n",
       "      <th>3</th>\n",
       "      <td>4221</td>\n",
       "      <td>6404</td>\n",
       "      <td>507</td>\n",
       "    </tr>\n",
       "    <tr>\n",
       "      <th>4</th>\n",
       "      <td>7198</td>\n",
       "      <td>3915</td>\n",
       "      <td>1777</td>\n",
       "    </tr>\n",
       "  </tbody>\n",
       "</table>\n",
       "</div>"
      ],
      "text/plain": [
       "   Grocery  Frozen  Detergents_Paper\n",
       "0     7561     214              2674\n",
       "1     9568    1762              3293\n",
       "2     7684    2405              3516\n",
       "3     4221    6404               507\n",
       "4     7198    3915              1777"
      ]
     },
     "execution_count": 15,
     "metadata": {},
     "output_type": "execute_result"
    }
   ],
   "source": [
    "df.head()"
   ]
  },
  {
   "cell_type": "code",
   "execution_count": 16,
   "metadata": {},
   "outputs": [
    {
     "data": {
      "text/plain": [
       "array([[ 7561.,   214.,  2674.],\n",
       "       [ 9568.,  1762.,  3293.],\n",
       "       [ 7684.,  2405.,  3516.],\n",
       "       [ 4221.,  6404.,   507.],\n",
       "       [ 7198.,  3915.,  1777.],\n",
       "       [ 5126.,   666.,  1795.],\n",
       "       [ 6975.,   480.,  3140.],\n",
       "       [ 9426.,  1669.,  3321.],\n",
       "       [ 6192.,   425.,  1716.],\n",
       "       [18881.,  1159.,  7425.]], dtype=float32)"
      ]
     },
     "execution_count": 16,
     "metadata": {},
     "output_type": "execute_result"
    }
   ],
   "source": [
    "np_array = df.values.astype(\"float32\", copy = False)\n",
    "np_array[0:10]"
   ]
  },
  {
   "cell_type": "code",
   "execution_count": 17,
   "metadata": {},
   "outputs": [
    {
     "data": {
      "text/plain": [
       "array([[0.08146416, 0.0031063 , 0.0654272 ],\n",
       "       [0.10309667, 0.02854842, 0.08058985],\n",
       "       [0.08278991, 0.03911643, 0.08605233],\n",
       "       [0.04546386, 0.1048419 , 0.01234568],\n",
       "       [0.07755155, 0.063934  , 0.04345483],\n",
       "       [0.05521843, 0.01053514, 0.04389575],\n",
       "       [0.07514793, 0.00747814, 0.07684205],\n",
       "       [0.10156612, 0.02701992, 0.08127572],\n",
       "       [0.06670834, 0.00657419, 0.04196061],\n",
       "       [0.20347716, 0.01863783, 0.18180482]], dtype=float32)"
      ]
     },
     "execution_count": 17,
     "metadata": {},
     "output_type": "execute_result"
    }
   ],
   "source": [
    "scaler = MinMaxScaler().fit(np_array)\n",
    "np_array = scaler.transform(np_array)\n",
    "np_array[0:10]"
   ]
  },
  {
   "cell_type": "code",
   "execution_count": 18,
   "metadata": {},
   "outputs": [],
   "source": [
    "dbsc = DBSCAN(eps = .5, min_samples = 20).fit(np_array)"
   ]
  },
  {
   "cell_type": "code",
   "execution_count": 19,
   "metadata": {},
   "outputs": [],
   "source": [
    "# Now, let's add the scaled value columns back onto the dataframe\n",
    "columns = list(df.columns)\n",
    "scaled_columns = [\"Scaled_\" + column for column in columns]\n",
    "\n",
    "# Save a copy of the original dataframe\n",
    "original_df = df.copy()\n",
    "\n",
    "# Create a dataframe containing the scaled values\n",
    "scaled_df = pd.DataFrame(np_array, columns=scaled_columns)\n",
    "\n",
    "# Merge the scaled and non-scaled values into one dataframe\n",
    "df = df.merge(scaled_df, on=df.index)\n",
    "df = df.drop(columns=['key_0'])"
   ]
  },
  {
   "cell_type": "code",
   "execution_count": 20,
   "metadata": {},
   "outputs": [
    {
     "data": {
      "text/plain": [
       "array([0, 0, 0, 0, 0, 0, 0, 0, 0, 0])"
      ]
     },
     "execution_count": 20,
     "metadata": {},
     "output_type": "execute_result"
    }
   ],
   "source": [
    "labels = dbsc.labels_\n",
    "labels[0:10]"
   ]
  },
  {
   "cell_type": "code",
   "execution_count": 21,
   "metadata": {},
   "outputs": [
    {
     "data": {
      "text/plain": [
       " 0    439\n",
       "-1      1\n",
       "Name: labels, dtype: int64"
      ]
     },
     "execution_count": 21,
     "metadata": {},
     "output_type": "execute_result"
    }
   ],
   "source": [
    "df['labels'] = labels\n",
    "df.labels.value_counts()"
   ]
  },
  {
   "cell_type": "code",
   "execution_count": 22,
   "metadata": {},
   "outputs": [
    {
     "data": {
      "text/html": [
       "<div>\n",
       "<style scoped>\n",
       "    .dataframe tbody tr th:only-of-type {\n",
       "        vertical-align: middle;\n",
       "    }\n",
       "\n",
       "    .dataframe tbody tr th {\n",
       "        vertical-align: top;\n",
       "    }\n",
       "\n",
       "    .dataframe thead th {\n",
       "        text-align: right;\n",
       "    }\n",
       "</style>\n",
       "<table border=\"1\" class=\"dataframe\">\n",
       "  <thead>\n",
       "    <tr style=\"text-align: right;\">\n",
       "      <th></th>\n",
       "      <th>Grocery</th>\n",
       "      <th>Frozen</th>\n",
       "      <th>Detergents_Paper</th>\n",
       "      <th>Scaled_Grocery</th>\n",
       "      <th>Scaled_Frozen</th>\n",
       "      <th>Scaled_Detergents_Paper</th>\n",
       "      <th>labels</th>\n",
       "    </tr>\n",
       "  </thead>\n",
       "  <tbody>\n",
       "    <tr>\n",
       "      <th>85</th>\n",
       "      <td>92780</td>\n",
       "      <td>1026</td>\n",
       "      <td>40827</td>\n",
       "      <td>1.0</td>\n",
       "      <td>0.016452</td>\n",
       "      <td>1.0</td>\n",
       "      <td>-1</td>\n",
       "    </tr>\n",
       "  </tbody>\n",
       "</table>\n",
       "</div>"
      ],
      "text/plain": [
       "    Grocery  Frozen  Detergents_Paper  Scaled_Grocery  Scaled_Frozen  \\\n",
       "85    92780    1026             40827             1.0       0.016452   \n",
       "\n",
       "    Scaled_Detergents_Paper  labels  \n",
       "85                      1.0      -1  "
      ]
     },
     "execution_count": 22,
     "metadata": {},
     "output_type": "execute_result"
    }
   ],
   "source": [
    "df[df.labels==-1].head()"
   ]
  },
  {
   "cell_type": "code",
   "execution_count": 23,
   "metadata": {},
   "outputs": [
    {
     "name": "stdout",
     "output_type": "stream",
     "text": [
      "Population\n",
      "            Grocery        Frozen  Detergents_Paper  Scaled_Grocery  \\\n",
      "count    440.000000    440.000000        440.000000      440.000000   \n",
      "mean    7951.277273   3071.931818       2881.493182        0.085671   \n",
      "std     9503.162829   4854.673333       4767.854448        0.102430   \n",
      "min        3.000000     25.000000          3.000000        0.000000   \n",
      "25%     2153.000000    742.250000        256.750000        0.023174   \n",
      "50%     4755.500000   1526.000000        816.500000        0.051225   \n",
      "75%    10655.750000   3554.250000       3922.000000        0.114821   \n",
      "max    92780.000000  60869.000000      40827.000000        1.000000   \n",
      "\n",
      "       Scaled_Frozen  Scaled_Detergents_Paper      labels  \n",
      "count     440.000000               440.000000  440.000000  \n",
      "mean        0.050078                 0.070510   -0.002273  \n",
      "std         0.079789                 0.116790    0.047673  \n",
      "min         0.000000                 0.000000   -1.000000  \n",
      "25%         0.011788                 0.006216    0.000000  \n",
      "50%         0.024670                 0.019927    0.000000  \n",
      "75%         0.058005                 0.095997    0.000000  \n",
      "max         1.000000                 1.000000    0.000000  \n",
      "-------------\n",
      "Inliers\n",
      "            Grocery        Frozen  Detergents_Paper  Scaled_Grocery  \\\n",
      "count    439.000000    439.000000        439.000000      439.000000   \n",
      "mean    7758.045558   3076.592255       2795.056948        0.083588   \n",
      "std     8605.221913   4859.226541       4414.690623        0.092752   \n",
      "min        3.000000     25.000000          3.000000        0.000000   \n",
      "25%     2151.000000    740.500000        256.500000        0.023152   \n",
      "50%     4754.000000   1535.000000        813.000000        0.051209   \n",
      "75%    10582.000000   3559.500000       3900.000000        0.114026   \n",
      "max    67298.000000  60869.000000      38102.000000        0.725341   \n",
      "\n",
      "       Scaled_Frozen  Scaled_Detergents_Paper  labels  \n",
      "count     439.000000               439.000000   439.0  \n",
      "mean        0.050154                 0.068393     0.0  \n",
      "std         0.079864                 0.108140     0.0  \n",
      "min         0.000000                 0.000000     0.0  \n",
      "25%         0.011760                 0.006210     0.0  \n",
      "50%         0.024818                 0.019841     0.0  \n",
      "75%         0.058091                 0.095459     0.0  \n",
      "max         1.000000                 0.933250     0.0  \n",
      "-------------\n",
      "Outliers\n",
      "       Grocery  Frozen  Detergents_Paper  Scaled_Grocery  Scaled_Frozen  \\\n",
      "count      1.0     1.0               1.0             1.0       1.000000   \n",
      "mean   92780.0  1026.0           40827.0             1.0       0.016452   \n",
      "std        NaN     NaN               NaN             NaN            NaN   \n",
      "min    92780.0  1026.0           40827.0             1.0       0.016452   \n",
      "25%    92780.0  1026.0           40827.0             1.0       0.016452   \n",
      "50%    92780.0  1026.0           40827.0             1.0       0.016452   \n",
      "75%    92780.0  1026.0           40827.0             1.0       0.016452   \n",
      "max    92780.0  1026.0           40827.0             1.0       0.016452   \n",
      "\n",
      "       Scaled_Detergents_Paper  labels  \n",
      "count                      1.0     1.0  \n",
      "mean                       1.0    -1.0  \n",
      "std                        NaN     NaN  \n",
      "min                        1.0    -1.0  \n",
      "25%                        1.0    -1.0  \n",
      "50%                        1.0    -1.0  \n",
      "75%                        1.0    -1.0  \n",
      "max                        1.0    -1.0  \n"
     ]
    }
   ],
   "source": [
    "# Let's look at the descriptive stats for the entire population, the inliers, then the outliers/anomalies\n",
    "print(\"Population\")\n",
    "print(df.describe())\n",
    "print(\"-------------\")\n",
    "print(\"Inliers\")\n",
    "print(df[df.labels==0].describe())\n",
    "print(\"-------------\")\n",
    "print(\"Outliers\")\n",
    "print(df[df.labels==-1].describe())"
   ]
  },
  {
   "cell_type": "code",
   "execution_count": 24,
   "metadata": {},
   "outputs": [
    {
     "data": {
      "image/png": "[encoded data removed]",
      "text/plain": [
       "<Figure size 432x288 with 1 Axes>"
      ]
     },
     "metadata": {
      "needs_background": "light"
     },
     "output_type": "display_data"
    },
    {
     "data": {
      "image/png": "[encoded data removed]",
      "text/plain": [
       "<Figure size 432x288 with 1 Axes>"
      ]
     },
     "metadata": {
      "needs_background": "light"
     },
     "output_type": "display_data"
    }
   ],
   "source": [
    "sns.scatterplot(df.Grocery, df.Frozen, hue=df.labels)\n",
    "plt.show()\n",
    "\n",
    "sns.scatterplot(df.Grocery, df.Detergents_Paper, hue=df.labels)\n",
    "plt.show()"
   ]
  },
  {
   "cell_type": "code",
   "execution_count": 25,
   "metadata": {},
   "outputs": [
    {
     "data": {
      "text/plain": [
       "Text(0.5, 0, 'Grocery')"
      ]
     },
     "execution_count": 25,
     "metadata": {},
     "output_type": "execute_result"
    },
    {
     "data": {
      "image/png": "[encoded data removed]",
      "text/plain": [
       "<Figure size 576x576 with 1 Axes>"
      ]
     },
     "metadata": {
      "needs_background": "light"
     },
     "output_type": "display_data"
    }
   ],
   "source": [
    "from mpl_toolkits.mplot3d import Axes3D\n",
    "\n",
    "fig = plt.figure(1, figsize=(8, 8))\n",
    "ax = Axes3D(fig, rect=[0, 0, .95, 1], elev=48, azim=134)\n",
    "\n",
    "# plot the points\n",
    "ax.scatter(df.Detergents_Paper, df.Frozen, df.Grocery,\n",
    "           c=df.labels, edgecolor='k')\n",
    "\n",
    "ax.w_xaxis.set_ticklabels([])\n",
    "ax.w_yaxis.set_ticklabels([])\n",
    "ax.w_zaxis.set_ticklabels([])\n",
    "\n",
    "ax.set_xlabel('Detergents_Paper')\n",
    "ax.set_ylabel('Frozen')\n",
    "ax.set_zlabel('Grocery')"
   ]
  },
  {
   "cell_type": "markdown",
   "metadata": {},
   "source": [
    "Zillow Data- Use DBSCAN to detect anomalies in number of bedrooms and finished square feet of property for the filtered dataset you used in the clustering project (single unit properties with a logerror)."
   ]
  },
  {
   "cell_type": "code",
   "execution_count": 26,
   "metadata": {},
   "outputs": [],
   "source": [
    "dfl= pd.read_csv('lemonade.csv')"
   ]
  },
  {
   "cell_type": "code",
   "execution_count": 27,
   "metadata": {},
   "outputs": [
    {
     "data": {
      "text/html": [
       "<div>\n",
       "<style scoped>\n",
       "    .dataframe tbody tr th:only-of-type {\n",
       "        vertical-align: middle;\n",
       "    }\n",
       "\n",
       "    .dataframe tbody tr th {\n",
       "        vertical-align: top;\n",
       "    }\n",
       "\n",
       "    .dataframe thead th {\n",
       "        text-align: right;\n",
       "    }\n",
       "</style>\n",
       "<table border=\"1\" class=\"dataframe\">\n",
       "  <thead>\n",
       "    <tr style=\"text-align: right;\">\n",
       "      <th></th>\n",
       "      <th>Date</th>\n",
       "      <th>Day</th>\n",
       "      <th>Temperature</th>\n",
       "      <th>Rainfall</th>\n",
       "      <th>Flyers</th>\n",
       "      <th>Price</th>\n",
       "      <th>Sales</th>\n",
       "    </tr>\n",
       "  </thead>\n",
       "  <tbody>\n",
       "    <tr>\n",
       "      <th>0</th>\n",
       "      <td>1/1/17</td>\n",
       "      <td>Sunday</td>\n",
       "      <td>27.0</td>\n",
       "      <td>2.00</td>\n",
       "      <td>15</td>\n",
       "      <td>0.5</td>\n",
       "      <td>10</td>\n",
       "    </tr>\n",
       "    <tr>\n",
       "      <th>1</th>\n",
       "      <td>1/2/17</td>\n",
       "      <td>Monday</td>\n",
       "      <td>28.9</td>\n",
       "      <td>1.33</td>\n",
       "      <td>15</td>\n",
       "      <td>0.5</td>\n",
       "      <td>13</td>\n",
       "    </tr>\n",
       "    <tr>\n",
       "      <th>2</th>\n",
       "      <td>1/3/17</td>\n",
       "      <td>Tuesday</td>\n",
       "      <td>34.5</td>\n",
       "      <td>1.33</td>\n",
       "      <td>27</td>\n",
       "      <td>0.5</td>\n",
       "      <td>15</td>\n",
       "    </tr>\n",
       "    <tr>\n",
       "      <th>3</th>\n",
       "      <td>1/4/17</td>\n",
       "      <td>Wednesday</td>\n",
       "      <td>44.1</td>\n",
       "      <td>1.05</td>\n",
       "      <td>28</td>\n",
       "      <td>0.5</td>\n",
       "      <td>17</td>\n",
       "    </tr>\n",
       "    <tr>\n",
       "      <th>4</th>\n",
       "      <td>1/5/17</td>\n",
       "      <td>Thursday</td>\n",
       "      <td>42.4</td>\n",
       "      <td>1.00</td>\n",
       "      <td>33</td>\n",
       "      <td>0.5</td>\n",
       "      <td>18</td>\n",
       "    </tr>\n",
       "  </tbody>\n",
       "</table>\n",
       "</div>"
      ],
      "text/plain": [
       "     Date        Day  Temperature  Rainfall  Flyers  Price  Sales\n",
       "0  1/1/17     Sunday         27.0      2.00      15    0.5     10\n",
       "1  1/2/17     Monday         28.9      1.33      15    0.5     13\n",
       "2  1/3/17    Tuesday         34.5      1.33      27    0.5     15\n",
       "3  1/4/17  Wednesday         44.1      1.05      28    0.5     17\n",
       "4  1/5/17   Thursday         42.4      1.00      33    0.5     18"
      ]
     },
     "execution_count": 27,
     "metadata": {},
     "output_type": "execute_result"
    }
   ],
   "source": [
    "dfl.head()"
   ]
  },
  {
   "cell_type": "code",
   "execution_count": 28,
   "metadata": {},
   "outputs": [
    {
     "data": {
      "text/html": [
       "<div>\n",
       "<style scoped>\n",
       "    .dataframe tbody tr th:only-of-type {\n",
       "        vertical-align: middle;\n",
       "    }\n",
       "\n",
       "    .dataframe tbody tr th {\n",
       "        vertical-align: top;\n",
       "    }\n",
       "\n",
       "    .dataframe thead th {\n",
       "        text-align: right;\n",
       "    }\n",
       "</style>\n",
       "<table border=\"1\" class=\"dataframe\">\n",
       "  <thead>\n",
       "    <tr style=\"text-align: right;\">\n",
       "      <th></th>\n",
       "      <th>Temperature</th>\n",
       "      <th>Rainfall</th>\n",
       "      <th>Flyers</th>\n",
       "      <th>Price</th>\n",
       "      <th>Sales</th>\n",
       "    </tr>\n",
       "  </thead>\n",
       "  <tbody>\n",
       "    <tr>\n",
       "      <th>0</th>\n",
       "      <td>27.0</td>\n",
       "      <td>2.00</td>\n",
       "      <td>15</td>\n",
       "      <td>0.5</td>\n",
       "      <td>10</td>\n",
       "    </tr>\n",
       "    <tr>\n",
       "      <th>1</th>\n",
       "      <td>28.9</td>\n",
       "      <td>1.33</td>\n",
       "      <td>15</td>\n",
       "      <td>0.5</td>\n",
       "      <td>13</td>\n",
       "    </tr>\n",
       "    <tr>\n",
       "      <th>2</th>\n",
       "      <td>34.5</td>\n",
       "      <td>1.33</td>\n",
       "      <td>27</td>\n",
       "      <td>0.5</td>\n",
       "      <td>15</td>\n",
       "    </tr>\n",
       "    <tr>\n",
       "      <th>3</th>\n",
       "      <td>44.1</td>\n",
       "      <td>1.05</td>\n",
       "      <td>28</td>\n",
       "      <td>0.5</td>\n",
       "      <td>17</td>\n",
       "    </tr>\n",
       "    <tr>\n",
       "      <th>4</th>\n",
       "      <td>42.4</td>\n",
       "      <td>1.00</td>\n",
       "      <td>33</td>\n",
       "      <td>0.5</td>\n",
       "      <td>18</td>\n",
       "    </tr>\n",
       "  </tbody>\n",
       "</table>\n",
       "</div>"
      ],
      "text/plain": [
       "   Temperature  Rainfall  Flyers  Price  Sales\n",
       "0         27.0      2.00      15    0.5     10\n",
       "1         28.9      1.33      15    0.5     13\n",
       "2         34.5      1.33      27    0.5     15\n",
       "3         44.1      1.05      28    0.5     17\n",
       "4         42.4      1.00      33    0.5     18"
      ]
     },
     "execution_count": 28,
     "metadata": {},
     "output_type": "execute_result"
    }
   ],
   "source": [
    "dfl.set_index('Day')\n",
    "dfl= dfl.drop(['Date', 'Day'], axis= 1)\n",
    "dfl.head()"
   ]
  },
  {
   "cell_type": "code",
   "execution_count": 62,
   "metadata": {},
   "outputs": [
    {
     "data": {
      "text/html": [
       "<div>\n",
       "<style scoped>\n",
       "    .dataframe tbody tr th:only-of-type {\n",
       "        vertical-align: middle;\n",
       "    }\n",
       "\n",
       "    .dataframe tbody tr th {\n",
       "        vertical-align: top;\n",
       "    }\n",
       "\n",
       "    .dataframe thead th {\n",
       "        text-align: right;\n",
       "    }\n",
       "</style>\n",
       "<table border=\"1\" class=\"dataframe\">\n",
       "  <thead>\n",
       "    <tr style=\"text-align: right;\">\n",
       "      <th></th>\n",
       "      <th>Temperature</th>\n",
       "      <th>Sales</th>\n",
       "      <th>labels</th>\n",
       "    </tr>\n",
       "  </thead>\n",
       "  <tbody>\n",
       "    <tr>\n",
       "      <th>count</th>\n",
       "      <td>365.000000</td>\n",
       "      <td>365.000000</td>\n",
       "      <td>365.0</td>\n",
       "    </tr>\n",
       "    <tr>\n",
       "      <th>mean</th>\n",
       "      <td>61.224658</td>\n",
       "      <td>27.589041</td>\n",
       "      <td>-1.0</td>\n",
       "    </tr>\n",
       "    <tr>\n",
       "      <th>std</th>\n",
       "      <td>18.085892</td>\n",
       "      <td>29.979680</td>\n",
       "      <td>0.0</td>\n",
       "    </tr>\n",
       "    <tr>\n",
       "      <th>min</th>\n",
       "      <td>15.100000</td>\n",
       "      <td>7.000000</td>\n",
       "      <td>-1.0</td>\n",
       "    </tr>\n",
       "    <tr>\n",
       "      <th>25%</th>\n",
       "      <td>49.700000</td>\n",
       "      <td>20.000000</td>\n",
       "      <td>-1.0</td>\n",
       "    </tr>\n",
       "    <tr>\n",
       "      <th>50%</th>\n",
       "      <td>61.100000</td>\n",
       "      <td>25.000000</td>\n",
       "      <td>-1.0</td>\n",
       "    </tr>\n",
       "    <tr>\n",
       "      <th>75%</th>\n",
       "      <td>71.700000</td>\n",
       "      <td>30.000000</td>\n",
       "      <td>-1.0</td>\n",
       "    </tr>\n",
       "    <tr>\n",
       "      <th>max</th>\n",
       "      <td>212.000000</td>\n",
       "      <td>534.000000</td>\n",
       "      <td>-1.0</td>\n",
       "    </tr>\n",
       "  </tbody>\n",
       "</table>\n",
       "</div>"
      ],
      "text/plain": [
       "       Temperature       Sales  labels\n",
       "count   365.000000  365.000000   365.0\n",
       "mean     61.224658   27.589041    -1.0\n",
       "std      18.085892   29.979680     0.0\n",
       "min      15.100000    7.000000    -1.0\n",
       "25%      49.700000   20.000000    -1.0\n",
       "50%      61.100000   25.000000    -1.0\n",
       "75%      71.700000   30.000000    -1.0\n",
       "max     212.000000  534.000000    -1.0"
      ]
     },
     "execution_count": 62,
     "metadata": {},
     "output_type": "execute_result"
    }
   ],
   "source": [
    "dfl.describe()"
   ]
  },
  {
   "cell_type": "code",
   "execution_count": 39,
   "metadata": {},
   "outputs": [],
   "source": [
    "dfl = dfl[[\"Temperature\", \"Sales\"]]"
   ]
  },
  {
   "cell_type": "code",
   "execution_count": 40,
   "metadata": {},
   "outputs": [],
   "source": [
    "#Scale to standard normal:\n",
    "np_array = dfl.values.astype(\"float32\", copy = False)"
   ]
  },
  {
   "cell_type": "code",
   "execution_count": 44,
   "metadata": {},
   "outputs": [],
   "source": [
    "stscaler = StandardScaler().fit(np_array)"
   ]
  },
  {
   "cell_type": "code",
   "execution_count": 45,
   "metadata": {},
   "outputs": [
    {
     "data": {
      "text/plain": [
       "array([[-1.89493763e+00, -5.87504089e-01],\n",
       "       [-1.78973913e+00, -4.87298965e-01],\n",
       "       [-1.47968042e+00, -4.20495540e-01],\n",
       "       [-9.48151469e-01, -3.53692114e-01],\n",
       "       [-1.04227626e+00, -3.20290387e-01],\n",
       "       [-1.98906267e+00, -5.54102421e-01],\n",
       "       [-1.56826854e+00, -4.87298965e-01],\n",
       "       [-1.31357765e+00, -4.20495540e-01],\n",
       "       [-1.28035712e+00, -3.53692114e-01],\n",
       "       [-9.86908615e-01, -3.20290387e-01],\n",
       "       [-1.58487904e+00, -5.20700693e-01],\n",
       "       [-1.27482021e+00, -4.53897268e-01],\n",
       "       [-1.31357765e+00, -4.20495540e-01],\n",
       "       [-9.48151469e-01, -3.53692114e-01],\n",
       "       [-9.86908615e-01, -3.20290387e-01],\n",
       "       [-1.69561410e+00, -5.20700693e-01],\n",
       "       [-1.60702598e+00, -4.53897268e-01],\n",
       "       [-1.02012932e+00, -3.87093842e-01],\n",
       "       [-1.00351906e+00, -3.53692114e-01],\n",
       "       [-1.64024651e+00, -5.20700693e-01],\n",
       "       [-1.38555551e+00, -4.53897268e-01],\n",
       "       [-1.13086450e+00, -3.87093842e-01],\n",
       "       [-1.28035712e+00, -3.53692114e-01],\n",
       "       [-1.80634940e+00, -5.20700693e-01],\n",
       "       [-1.60702598e+00, -4.53897268e-01],\n",
       "       [-1.40770257e+00, -3.87093842e-01],\n",
       "       [-1.05888665e+00, -3.53692114e-01],\n",
       "       [-1.45753336e+00, -4.87298965e-01],\n",
       "       [-1.44092309e+00, -4.53897268e-01],\n",
       "       [-1.11425436e+00, -3.53692114e-01],\n",
       "       [-1.15301144e+00, -3.20290387e-01],\n",
       "       [-1.04227626e+00, -3.20290387e-01],\n",
       "       [-5.10747313e-01, -2.53486991e-01],\n",
       "       [-6.04872286e-01, -2.20085278e-01],\n",
       "       [-2.56056339e-01, -1.86683565e-01],\n",
       "       [-8.76173437e-01, -3.20290387e-01],\n",
       "       [-8.98320556e-01, -2.53486991e-01],\n",
       "       [-4.94137049e-01, -2.20085278e-01],\n",
       "       [-4.77526814e-01, -1.86683565e-01],\n",
       "       [-1.02566600e+00, -2.86888689e-01],\n",
       "       [-6.21482491e-01, -2.53486991e-01],\n",
       "       [ 8.34807110e+00, -2.20085278e-01],\n",
       "       [-3.11423957e-01, -1.86683565e-01],\n",
       "       [-8.20805848e-01, -3.20290387e-01],\n",
       "       [-7.48827994e-01, -2.86888689e-01],\n",
       "       [-5.10747313e-01, -2.53486991e-01],\n",
       "       [-7.70975113e-01, -2.20085278e-01],\n",
       "       [-1.15301144e+00, -3.20290387e-01],\n",
       "       [-9.70298409e-01, -2.86888689e-01],\n",
       "       [-6.21482491e-01, -2.53486991e-01],\n",
       "       [-6.04872286e-01, -2.20085278e-01],\n",
       "       [-1.04227626e+00, -3.20290387e-01],\n",
       "       [-7.48827994e-01, -2.86888689e-01],\n",
       "       [-8.98320556e-01, -2.53486991e-01],\n",
       "       [-7.70975113e-01, -2.20085278e-01],\n",
       "       [-1.04227626e+00, -3.20290387e-01],\n",
       "       [-6.93460405e-01, -2.86888689e-01],\n",
       "       [-8.98320556e-01, -2.53486991e-01],\n",
       "       [-6.43629670e-01, -1.86683565e-01],\n",
       "       [-1.84078261e-01, -1.53281838e-01],\n",
       "       [-2.22835645e-01, -1.19880125e-01],\n",
       "       [-5.67327999e-02, -1.19880125e-01],\n",
       "       [-9.54901725e-02, -8.64784047e-02],\n",
       "       [-2.94813484e-01, -1.53281838e-01],\n",
       "       [-1.36518828e-03, -1.19880125e-01],\n",
       "       [-5.67327999e-02, -1.19880125e-01],\n",
       "       [-1.50857791e-01, -8.64784047e-02],\n",
       "       [-4.60916370e-01, -1.53281838e-01],\n",
       "       [-1.12100415e-01, -1.19880125e-01],\n",
       "       [-1.67468026e-01, -1.19880125e-01],\n",
       "       [ 1.52450530e-02, -8.64784047e-02],\n",
       "       [-2.94813484e-01, -1.53281838e-01],\n",
       "       [-1.28710657e-01, -1.53281838e-01],\n",
       "       [-2.78203249e-01, -1.19880125e-01],\n",
       "       [-5.67327999e-02, -1.19880125e-01],\n",
       "       [-2.61593014e-01, -8.64784047e-02],\n",
       "       [-4.05548722e-01, -1.53281838e-01],\n",
       "       [-2.39445880e-01, -1.53281838e-01],\n",
       "       [-1.67468026e-01, -1.19880125e-01],\n",
       "       [-2.22835645e-01, -1.19880125e-01],\n",
       "       [-2.61593014e-01, -8.64784047e-02],\n",
       "       [-2.94813484e-01, -1.53281838e-01],\n",
       "       [-2.39445880e-01, -1.53281838e-01],\n",
       "       [-1.67468026e-01, -1.19880125e-01],\n",
       "       [-9.54901725e-02, -8.64784047e-02],\n",
       "       [-4.01225612e-02, -8.64784047e-02],\n",
       "       [-2.94813484e-01, -1.53281838e-01],\n",
       "       [-2.22835645e-01, -1.19880125e-01],\n",
       "       [-3.33570868e-01, -1.19880125e-01],\n",
       "       [-1.50857791e-01, -8.64784047e-02],\n",
       "       [-2.06225395e-01, -8.64784047e-02],\n",
       "       [ 2.53325969e-01, -5.30766957e-02],\n",
       "       [-2.35123187e-02, -5.30766957e-02],\n",
       "       [ 4.84655350e-02, -1.96749829e-02],\n",
       "       [ 1.75811216e-01,  1.37267327e-02],\n",
       "       [-2.06225395e-01, -8.64784047e-02],\n",
       "       [-7.88799301e-02, -5.30766957e-02],\n",
       "       [ 1.42590523e-01, -5.30766957e-02],\n",
       "       [ 1.03833154e-01, -1.96749829e-02],\n",
       "       [-1.50857791e-01, -8.64784047e-02],\n",
       "       [-2.35123187e-02, -5.30766957e-02],\n",
       "       [ 2.69935995e-01, -1.96749829e-02],\n",
       "       [-6.90207630e-03, -1.96749829e-02],\n",
       "       [ 1.52450530e-02, -8.64784047e-02],\n",
       "       [ 2.53325969e-01, -5.30766957e-02],\n",
       "       [ 2.14568377e-01, -1.96749829e-02],\n",
       "       [ 1.59200758e-01, -1.96749829e-02],\n",
       "       [ 7.06126690e-02, -8.64784047e-02],\n",
       "       [-7.88799301e-02, -5.30766957e-02],\n",
       "       [ 3.80671203e-01, -1.96749829e-02],\n",
       "       [ 3.25303614e-01, -1.96749829e-02],\n",
       "       [-2.06225395e-01, -8.64784047e-02],\n",
       "       [-2.35123187e-02, -5.30766957e-02],\n",
       "       [ 2.14568377e-01, -1.96749829e-02],\n",
       "       [ 2.14568377e-01, -1.96749829e-02],\n",
       "       [ 7.06126690e-02, -8.64784047e-02],\n",
       "       [ 1.25980288e-01, -8.64784047e-02],\n",
       "       [-1.34247541e-01, -5.30766957e-02],\n",
       "       [ 2.14568377e-01, -1.96749829e-02],\n",
       "       [ 3.25303614e-01, -1.96749829e-02],\n",
       "       [ 3.03156465e-01,  4.71284464e-02],\n",
       "       [ 2.47788861e-01,  4.71284464e-02],\n",
       "       [ 5.41237354e-01,  8.05301666e-02],\n",
       "       [ 5.57847798e-01,  1.13931879e-01],\n",
       "       [ 4.52649266e-01,  1.37267327e-02],\n",
       "       [ 3.03156465e-01,  4.71284464e-02],\n",
       "       [ 4.69259292e-01,  4.71284464e-02],\n",
       "       [ 7.62707829e-01,  8.05301666e-02],\n",
       "       [ 5.57847798e-01,  1.13931879e-01],\n",
       "       [ 4.52649266e-01,  1.37267327e-02],\n",
       "       [ 6.35362148e-01,  4.71284464e-02],\n",
       "       [ 3.03156465e-01,  4.71284464e-02],\n",
       "       [ 4.85869735e-01,  8.05301666e-02],\n",
       "       [ 8.90053511e-01,  1.13931879e-01],\n",
       "       [ 1.20443605e-01,  1.37267327e-02],\n",
       "       [ 2.47788861e-01,  4.71284464e-02],\n",
       "       [ 5.24626911e-01,  4.71284464e-02],\n",
       "       [ 5.96604943e-01,  8.05301666e-02],\n",
       "       [ 7.79318273e-01,  1.13931879e-01],\n",
       "       [ 1.75811216e-01,  1.37267327e-02],\n",
       "       [ 5.79994500e-01,  4.71284464e-02],\n",
       "       [ 5.41237354e-01,  8.05301666e-02],\n",
       "       [ 8.34685862e-01,  1.13931879e-01],\n",
       "       [ 4.52649266e-01,  1.37267327e-02],\n",
       "       [ 5.79994500e-01,  4.71284464e-02],\n",
       "       [ 5.96604943e-01,  8.05301666e-02],\n",
       "       [ 8.90053511e-01,  1.13931879e-01],\n",
       "       [ 5.79994500e-01,  4.71284464e-02],\n",
       "       [ 3.03156465e-01,  4.71284464e-02],\n",
       "       [ 7.62707829e-01,  8.05301666e-02],\n",
       "       [ 8.90053511e-01,  1.13931879e-01],\n",
       "       [ 5.57847798e-01,  1.13931879e-01],\n",
       "       [ 1.03400922e+00,  1.80735305e-01],\n",
       "       [ 1.12259734e+00,  2.47538731e-01],\n",
       "       [ 1.61536920e+00,  3.47743899e-01],\n",
       "       [ 9.62031186e-01,  1.47333592e-01],\n",
       "       [ 1.27208972e+00,  2.14137018e-01],\n",
       "       [ 1.41604590e+00,  2.80940473e-01],\n",
       "       [ 1.63197923e+00,  3.81145597e-01],\n",
       "       [ 9.06663537e-01,  1.47333592e-01],\n",
       "       [ 1.01186216e+00,  2.47538731e-01],\n",
       "       [ 1.30531061e+00,  2.80940473e-01],\n",
       "       [ 1.75932491e+00,  4.14547324e-01],\n",
       "       [ 7.95928299e-01,  1.47333592e-01],\n",
       "       [ 1.06722975e+00,  2.47538731e-01],\n",
       "       [ 1.30531061e+00,  2.80940473e-01],\n",
       "       [ 2.10814095e+00,  4.47949022e-01],\n",
       "       [ 8.34685862e-01,  1.13931879e-01],\n",
       "       [ 6.29825473e-01,  1.47333592e-01],\n",
       "       [ 1.39943540e+00,  2.47538731e-01],\n",
       "       [ 1.32192063e+00,  3.14342171e-01],\n",
       "       [ 1.83130288e+00,  4.47949022e-01],\n",
       "       [ 6.13215446e-01,  1.13931879e-01],\n",
       "       [ 1.03400922e+00,  1.80735305e-01],\n",
       "       [ 1.06722975e+00,  2.47538731e-01],\n",
       "       [ 1.32192063e+00,  3.14342171e-01],\n",
       "       [ 2.29085374e+00,  4.81350750e-01],\n",
       "       [ 7.79318273e-01,  1.13931879e-01],\n",
       "       [ 8.12538743e-01,  1.80735305e-01],\n",
       "       [ 1.39943540e+00,  2.47538731e-01],\n",
       "       [ 1.56000161e+00,  3.47743899e-01],\n",
       "       [ 2.30746412e+00,  5.14752448e-01],\n",
       "       [ 1.78147197e+00,  3.47743899e-01],\n",
       "       [ 1.12259734e+00,  6.92788172e+00],\n",
       "       [ 1.27208972e+00,  1.69149933e+01],\n",
       "       [ 1.75932491e+00,  2.38524842e+00],\n",
       "       [ 1.68734682e+00,  3.81145597e-01],\n",
       "       [ 1.17796493e+00,  2.47538731e-01],\n",
       "       [ 1.21672213e+00,  2.14137018e-01],\n",
       "       [ 9.23274040e-01,  1.80735305e-01],\n",
       "       [ 2.03616285e+00,  4.14547324e-01],\n",
       "       [ 1.23333251e+00,  2.47538731e-01],\n",
       "       [ 1.05061924e+00,  2.14137018e-01],\n",
       "       [ 9.78641629e-01,  1.80735305e-01],\n",
       "       [ 1.70395732e+00,  4.14547324e-01],\n",
       "       [ 1.17796493e+00,  2.47538731e-01],\n",
       "       [ 9.95251656e-01,  2.14137018e-01],\n",
       "       [ 1.08937681e+00,  1.80735305e-01],\n",
       "       [ 2.10814095e+00,  4.47949022e-01],\n",
       "       [ 1.24994302e+00,  2.80940473e-01],\n",
       "       [ 1.39943540e+00,  2.47538731e-01],\n",
       "       [ 8.67906332e-01,  1.80735305e-01],\n",
       "       [ 2.12475085e+00,  4.81350750e-01],\n",
       "       [ 1.54339111e+00,  3.14342171e-01],\n",
       "       [ 1.23333251e+00,  2.47538731e-01],\n",
       "       [ 1.03400922e+00,  1.80735305e-01],\n",
       "       [ 8.51295888e-01,  1.47333592e-01],\n",
       "       [ 2.03062606e+00,  5.14752448e-01],\n",
       "       [ 1.44926631e+00,  3.47743899e-01],\n",
       "       [ 1.34406781e+00,  2.47538731e-01],\n",
       "       [ 9.39884067e-01,  2.14137018e-01],\n",
       "       [ 7.40560651e-01,  1.47333592e-01],\n",
       "       [ 7.95928299e-01,  1.47333592e-01],\n",
       "       [ 8.34685862e-01,  1.13931879e-01],\n",
       "       [ 7.62707829e-01,  8.05301666e-02],\n",
       "       [ 5.24626911e-01,  4.71284464e-02],\n",
       "       [ 8.51295888e-01,  1.47333592e-01],\n",
       "       [ 8.90053511e-01,  1.13931879e-01],\n",
       "       [ 7.62707829e-01,  8.05301666e-02],\n",
       "       [ 4.13891703e-01,  4.71284464e-02],\n",
       "       [ 8.51295888e-01,  1.47333592e-01],\n",
       "       [ 5.02480209e-01,  1.13931879e-01],\n",
       "       [ 7.62707829e-01,  8.05301666e-02],\n",
       "       [ 3.58524084e-01,  4.71284464e-02],\n",
       "       [ 3.58524084e-01,  4.71284464e-02],\n",
       "       [ 6.29825473e-01,  1.47333592e-01],\n",
       "       [ 7.23950624e-01,  1.13931879e-01],\n",
       "       [ 5.41237354e-01,  8.05301666e-02],\n",
       "       [ 3.75134528e-01,  8.05301666e-02],\n",
       "       [ 2.47788861e-01,  4.71284464e-02],\n",
       "       [ 1.01739883e+00,  1.47333592e-01],\n",
       "       [ 7.23950624e-01,  1.13931879e-01],\n",
       "       [ 3.75134528e-01,  8.05301666e-02],\n",
       "       [ 4.30502146e-01,  8.05301666e-02],\n",
       "       [ 5.24626911e-01,  4.71284464e-02],\n",
       "       [ 7.40560651e-01,  1.47333592e-01],\n",
       "       [ 5.41237354e-01,  8.05301666e-02],\n",
       "       [ 4.85869735e-01,  8.05301666e-02],\n",
       "       [ 2.47788861e-01,  4.71284464e-02],\n",
       "       [ 9.06663537e-01,  1.47333592e-01],\n",
       "       [ 7.62707829e-01,  8.05301666e-02],\n",
       "       [ 5.96604943e-01,  8.05301666e-02],\n",
       "       [ 3.58524084e-01,  4.71284464e-02],\n",
       "       [ 5.79994500e-01,  4.71284464e-02],\n",
       "       [ 3.41914058e-01,  1.37267327e-02],\n",
       "       [-6.90207630e-03, -1.96749829e-02],\n",
       "       [-7.88799301e-02, -5.30766957e-02],\n",
       "       [ 3.18552926e-02, -5.30766957e-02],\n",
       "       [ 5.79994500e-01,  4.71284464e-02],\n",
       "       [ 3.97281677e-01,  1.37267327e-02],\n",
       "       [ 2.14568377e-01, -1.96749829e-02],\n",
       "       [ 1.97958350e-01, -5.30766957e-02],\n",
       "       [ 3.18552926e-02, -5.30766957e-02],\n",
       "       [ 3.97281677e-01,  1.37267327e-02],\n",
       "       [-6.90207630e-03, -1.96749829e-02],\n",
       "       [ 1.97958350e-01, -5.30766957e-02],\n",
       "       [ 1.42590523e-01, -5.30766957e-02],\n",
       "       [ 1.20443605e-01,  1.37267327e-02],\n",
       "       [ 3.80671203e-01,  1.98442781e+00],\n",
       "       [-7.88799301e-02, -5.30766957e-02],\n",
       "       [ 1.97958350e-01, -5.30766957e-02],\n",
       "       [ 3.41914058e-01,  1.37267327e-02],\n",
       "       [ 3.25303614e-01, -1.96749829e-02],\n",
       "       [-7.88799301e-02, -5.30766957e-02],\n",
       "       [ 1.97958350e-01, -5.30766957e-02],\n",
       "       [ 1.20443605e-01,  1.37267327e-02],\n",
       "       [ 1.20443605e-01,  1.37267327e-02],\n",
       "       [-6.90207630e-03, -1.96749829e-02],\n",
       "       [ 3.18552926e-02, -5.30766957e-02],\n",
       "       [ 5.24626911e-01,  4.71284464e-02],\n",
       "       [ 3.41914058e-01,  1.37267327e-02],\n",
       "       [ 2.69935995e-01, -1.96749829e-02],\n",
       "       [ 1.97958350e-01, -5.30766957e-02],\n",
       "       [-2.61593014e-01, -8.64784047e-02],\n",
       "       [-1.50857791e-01, -8.64784047e-02],\n",
       "       [-1.12100415e-01, -1.19880125e-01],\n",
       "       [-1.36518828e-03, -1.19880125e-01],\n",
       "       [-4.01225612e-02, -8.64784047e-02],\n",
       "       [ 7.06126690e-02, -8.64784047e-02],\n",
       "       [ 1.25980288e-01, -8.64784047e-02],\n",
       "       [-5.67327999e-02, -1.19880125e-01],\n",
       "       [ 1.25980288e-01, -8.64784047e-02],\n",
       "       [-1.50857791e-01, -8.64784047e-02],\n",
       "       [ 1.52450530e-02, -8.64784047e-02],\n",
       "       [-1.67468026e-01, -1.19880125e-01],\n",
       "       [ 1.52450530e-02, -8.64784047e-02],\n",
       "       [-9.54901725e-02, -8.64784047e-02],\n",
       "       [ 1.52450530e-02, -8.64784047e-02],\n",
       "       [-1.67468026e-01, -1.19880125e-01],\n",
       "       [-1.50857791e-01, -8.64784047e-02],\n",
       "       [ 7.06126690e-02, -8.64784047e-02],\n",
       "       [-4.01225612e-02, -8.64784047e-02],\n",
       "       [-5.67327999e-02, -1.19880125e-01],\n",
       "       [-2.78203249e-01, -1.19880125e-01],\n",
       "       [-2.06225395e-01, -8.64784047e-02],\n",
       "       [-1.50857791e-01, -8.64784047e-02],\n",
       "       [ 1.52450530e-02, -8.64784047e-02],\n",
       "       [-1.36518828e-03, -1.19880125e-01],\n",
       "       [-3.88938487e-01, -1.19880125e-01],\n",
       "       [ 8.72229114e-02, -5.30766957e-02],\n",
       "       [-2.06225395e-01, -8.64784047e-02],\n",
       "       [ 1.52450530e-02, -8.64784047e-02],\n",
       "       [-1.67468026e-01, -1.19880125e-01],\n",
       "       [-3.88938487e-01, -1.19880125e-01],\n",
       "       [-5.16283989e-01, -1.53281838e-01],\n",
       "       [-4.22159165e-01, -1.86683565e-01],\n",
       "       [-5.49504638e-01, -2.20085278e-01],\n",
       "       [-6.93460405e-01, -2.86888689e-01],\n",
       "       [-2.94813484e-01, -1.53281838e-01],\n",
       "       [-5.32894433e-01, -1.86683565e-01],\n",
       "       [-4.94137049e-01, -2.20085278e-01],\n",
       "       [-9.14930761e-01, -2.86888689e-01],\n",
       "       [-4.05548722e-01, -1.53281838e-01],\n",
       "       [-3.66791546e-01, -1.86683565e-01],\n",
       "       [-7.70975113e-01, -2.20085278e-01],\n",
       "       [-6.38092756e-01, -2.86888689e-01],\n",
       "       [-9.14930761e-01, -2.86888689e-01],\n",
       "       [-2.94813484e-01, -1.53281838e-01],\n",
       "       [-2.94813484e-01, -1.53281838e-01],\n",
       "       [-7.70975113e-01, -2.20085278e-01],\n",
       "       [-8.42952967e-01, -2.53486991e-01],\n",
       "       [-6.93460405e-01, -2.86888689e-01],\n",
       "       [-2.94813484e-01, -1.53281838e-01],\n",
       "       [-3.11423957e-01, -1.86683565e-01],\n",
       "       [-7.87585378e-01, -2.53486991e-01],\n",
       "       [-6.93460405e-01, -2.86888689e-01],\n",
       "       [-5.16283989e-01, -1.53281838e-01],\n",
       "       [-4.22159165e-01, -1.86683565e-01],\n",
       "       [-6.76850140e-01, -2.53486991e-01],\n",
       "       [-6.38092756e-01, -2.86888689e-01],\n",
       "       [-4.05548722e-01, -1.53281838e-01],\n",
       "       [-3.66791546e-01, -1.86683565e-01],\n",
       "       [-6.21482491e-01, -2.53486991e-01],\n",
       "       [-9.14930761e-01, -2.86888689e-01],\n",
       "       [-6.93460405e-01, -2.86888689e-01],\n",
       "       [-9.48151469e-01, -3.53692114e-01],\n",
       "       [-1.53504813e+00, -4.20495540e-01],\n",
       "       [-1.45753336e+00, -4.87298965e-01],\n",
       "       [-2.17177582e+00, -5.87504089e-01],\n",
       "       [-9.14930761e-01, -2.86888689e-01],\n",
       "       [-1.05888665e+00, -3.53692114e-01],\n",
       "       [-1.14747477e+00, -4.20495540e-01],\n",
       "       [-1.66239357e+00, -4.53897268e-01],\n",
       "       [-1.65685689e+00, -5.54102421e-01],\n",
       "       [-8.92783880e-01, -3.53692114e-01],\n",
       "       [-1.53504813e+00, -4.20495540e-01],\n",
       "       [-1.60702598e+00, -4.53897268e-01],\n",
       "       [-1.62363625e+00, -4.87298965e-01],\n",
       "       [-1.05888665e+00, -3.53692114e-01],\n",
       "       [-1.42431283e+00, -4.20495540e-01],\n",
       "       [-1.60702598e+00, -4.53897268e-01],\n",
       "       [-1.67900395e+00, -4.87298965e-01],\n",
       "       [-1.09764385e+00, -3.20290387e-01],\n",
       "       [-1.35233498e+00, -3.87093842e-01],\n",
       "       [-1.14747477e+00, -4.20495540e-01],\n",
       "       [-1.67900395e+00, -4.87298965e-01],\n",
       "       [-1.04227626e+00, -3.20290387e-01],\n",
       "       [-1.40770257e+00, -3.87093842e-01],\n",
       "       [-1.42431283e+00, -4.20495540e-01],\n",
       "       [-1.78973913e+00, -4.87298965e-01],\n",
       "       [-1.02566600e+00, -2.86888689e-01],\n",
       "       [-1.29696739e+00, -3.87093842e-01],\n",
       "       [-1.20284235e+00, -4.20495540e-01],\n",
       "       [-1.67900395e+00, -4.87298965e-01],\n",
       "       [-2.55381203e+00, -6.87709272e-01]], dtype=float32)"
      ]
     },
     "execution_count": 45,
     "metadata": {},
     "output_type": "execute_result"
    }
   ],
   "source": [
    "stscaler.transform(np_array)"
   ]
  },
  {
   "cell_type": "code",
   "execution_count": 58,
   "metadata": {},
   "outputs": [],
   "source": [
    "#Create DBSCAN object and fit: \n",
    "dbscl = DBSCAN(eps = .75, min_samples = 15).fit(np_array)"
   ]
  },
  {
   "cell_type": "code",
   "execution_count": 59,
   "metadata": {},
   "outputs": [],
   "source": [
    "labels = dbsc.labels_"
   ]
  },
  {
   "cell_type": "code",
   "execution_count": 60,
   "metadata": {},
   "outputs": [],
   "source": [
    "dfl['labels'] = labels"
   ]
  },
  {
   "cell_type": "code",
   "execution_count": 73,
   "metadata": {},
   "outputs": [
    {
     "data": {
      "text/plain": [
       "<matplotlib.axes._subplots.AxesSubplot at 0x1a25a52ac8>"
      ]
     },
     "execution_count": 73,
     "metadata": {},
     "output_type": "execute_result"
    },
    {
     "data": {
      "image/png": "[encoded data removed]",
      "text/plain": [
       "<Figure size 432x288 with 1 Axes>"
      ]
     },
     "metadata": {
      "needs_background": "light"
     },
     "output_type": "display_data"
    }
   ],
   "source": [
    "dfl.labels.value_counts() \n",
    "sns.scatterplot(dfl.Temperature, dfl.Sales, hue=dfl.labels, palette=\"Set1\")"
   ]
  },
  {
   "cell_type": "code",
   "execution_count": 75,
   "metadata": {},
   "outputs": [
    {
     "data": {
      "text/plain": [
       "-1    365\n",
       "Name: labels, dtype: int64"
      ]
     },
     "execution_count": 75,
     "metadata": {},
     "output_type": "execute_result"
    }
   ],
   "source": [
    "dfl['labels'] = labels\n",
    "dfl.labels.value_counts()"
   ]
  },
  {
   "cell_type": "code",
   "execution_count": 76,
   "metadata": {},
   "outputs": [
    {
     "data": {
      "text/html": [
       "<div>\n",
       "<style scoped>\n",
       "    .dataframe tbody tr th:only-of-type {\n",
       "        vertical-align: middle;\n",
       "    }\n",
       "\n",
       "    .dataframe tbody tr th {\n",
       "        vertical-align: top;\n",
       "    }\n",
       "\n",
       "    .dataframe thead th {\n",
       "        text-align: right;\n",
       "    }\n",
       "</style>\n",
       "<table border=\"1\" class=\"dataframe\">\n",
       "  <thead>\n",
       "    <tr style=\"text-align: right;\">\n",
       "      <th></th>\n",
       "      <th>Temperature</th>\n",
       "      <th>Sales</th>\n",
       "      <th>labels</th>\n",
       "    </tr>\n",
       "  </thead>\n",
       "  <tbody>\n",
       "    <tr>\n",
       "      <th>0</th>\n",
       "      <td>27.0</td>\n",
       "      <td>10</td>\n",
       "      <td>-1</td>\n",
       "    </tr>\n",
       "    <tr>\n",
       "      <th>1</th>\n",
       "      <td>28.9</td>\n",
       "      <td>13</td>\n",
       "      <td>-1</td>\n",
       "    </tr>\n",
       "    <tr>\n",
       "      <th>2</th>\n",
       "      <td>34.5</td>\n",
       "      <td>15</td>\n",
       "      <td>-1</td>\n",
       "    </tr>\n",
       "    <tr>\n",
       "      <th>3</th>\n",
       "      <td>44.1</td>\n",
       "      <td>17</td>\n",
       "      <td>-1</td>\n",
       "    </tr>\n",
       "    <tr>\n",
       "      <th>4</th>\n",
       "      <td>42.4</td>\n",
       "      <td>18</td>\n",
       "      <td>-1</td>\n",
       "    </tr>\n",
       "  </tbody>\n",
       "</table>\n",
       "</div>"
      ],
      "text/plain": [
       "   Temperature  Sales  labels\n",
       "0         27.0     10      -1\n",
       "1         28.9     13      -1\n",
       "2         34.5     15      -1\n",
       "3         44.1     17      -1\n",
       "4         42.4     18      -1"
      ]
     },
     "execution_count": 76,
     "metadata": {},
     "output_type": "execute_result"
    }
   ],
   "source": [
    "dfl[dfl.labels==-1].head()"
   ]
  },
  {
   "cell_type": "code",
   "execution_count": null,
   "metadata": {},
   "outputs": [],
   "source": []
  }
 ],
 "metadata": {
  "kernelspec": {
   "display_name": "Python 3",
   "language": "python",
   "name": "python3"
  },
  "language_info": {
   "codemirror_mode": {
    "name": "ipython",
    "version": 3
   },
   "file_extension": ".py",
   "mimetype": "text/x-python",
   "name": "python",
   "nbconvert_exporter": "python",
   "pygments_lexer": "ipython3",
   "version": "3.7.3"
  }
 },
 "nbformat": 4,
 "nbformat_minor": 2
}
